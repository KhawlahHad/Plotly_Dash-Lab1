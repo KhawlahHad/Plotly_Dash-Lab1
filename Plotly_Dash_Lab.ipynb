{
 "cells": [
  {
   "cell_type": "markdown",
   "metadata": {},
   "source": [
    "# Q0: import dash standard libraries"
   ]
  },
  {
   "cell_type": "code",
   "execution_count": 1,
   "metadata": {},
   "outputs": [],
   "source": [
    "from dash import Dash, dcc, html, Input, Output\n",
    "from jupyter_dash import JupyterDash"
   ]
  },
  {
   "cell_type": "markdown",
   "metadata": {},
   "source": [
    "# Q1: Make dash that prints \"Data Science\""
   ]
  },
  {
   "cell_type": "code",
   "execution_count": 2,
   "metadata": {},
   "outputs": [
    {
     "name": "stderr",
     "output_type": "stream",
     "text": [
      "c:\\Users\\hkhaw\\anaconda3\\envs\\venv\\Lib\\site-packages\\dash\\dash.py:538: UserWarning:\n",
      "\n",
      "JupyterDash is deprecated, use Dash instead.\n",
      "See https://dash.plotly.com/dash-in-jupyter for more details.\n",
      "\n"
     ]
    },
    {
     "data": {
      "text/html": [
       "\n",
       "        <iframe\n",
       "            width=\"100%\"\n",
       "            height=\"650\"\n",
       "            src=\"http://127.0.0.1:8050/\"\n",
       "            frameborder=\"0\"\n",
       "            allowfullscreen\n",
       "            \n",
       "        ></iframe>\n",
       "        "
      ],
      "text/plain": [
       "<IPython.lib.display.IFrame at 0x20814598e50>"
      ]
     },
     "metadata": {},
     "output_type": "display_data"
    },
    {
     "name": "stdout",
     "output_type": "stream",
     "text": [
      "Dash app running on http://127.0.0.1:8050/\n"
     ]
    }
   ],
   "source": [
    "from dash import Dash, dcc, html, Input, Output\n",
    "from jupyter_dash import JupyterDash\n",
    "import dash_bootstrap_components as dbc\n",
    "\n",
    "app = JupyterDash(\n",
    "    __name__,\n",
    "    external_stylesheets=[dbc.themes.SPACELAB, dbc.icons.BOOTSTRAP]\n",
    ")\n",
    "app.layout = html.Div([\n",
    "    html.H1('Data Science')\n",
    "])\n",
    "\n",
    "if __name__ == '__main__':\n",
    "    app.run_server()"
   ]
  },
  {
   "cell_type": "markdown",
   "metadata": {},
   "source": [
    "# Q2: Make dash that takes name input and outpt \"Welcome to Data Science dashboard {name}\""
   ]
  },
  {
   "cell_type": "code",
   "execution_count": 3,
   "metadata": {},
   "outputs": [
    {
     "data": {
      "text/html": [
       "\n",
       "        <iframe\n",
       "            width=\"100%\"\n",
       "            height=\"650\"\n",
       "            src=\"http://127.0.0.1:8050/\"\n",
       "            frameborder=\"0\"\n",
       "            allowfullscreen\n",
       "            \n",
       "        ></iframe>\n",
       "        "
      ],
      "text/plain": [
       "<IPython.lib.display.IFrame at 0x208142745d0>"
      ]
     },
     "metadata": {},
     "output_type": "display_data"
    }
   ],
   "source": [
    "from dash import Dash, dcc, html, Input, Output\n",
    "import dash_bootstrap_components as dbc\n",
    "\n",
    "\n",
    "app = Dash(\n",
    "    __name__,\n",
    "    external_stylesheets=[dbc.themes.SPACELAB, dbc.icons.BOOTSTRAP]\n",
    ")\n",
    "app.layout = html.Div(\n",
    "    id='container',\n",
    "    children=[\n",
    "        html.Div([\n",
    "            html.H1('Welcome to Data Science Dashboard', id='output-message'),\n",
    "            dcc.Input(id='name-input', type='text', placeholder='Enter your name'),\n",
    "        ],\n",
    "        style={\n",
    "            'position': 'absolute',\n",
    "            'left': '50%',\n",
    "            'top': '50%',\n",
    "            'transform': 'translate(-50%, -50%)',\n",
    "            'textAlign': 'center',\n",
    "        })\n",
    "    ],\n",
    "    style={\n",
    "        'position': 'relative',\n",
    "        'width': '100%',\n",
    "        'height': '100vh',\n",
    "    }\n",
    ")\n",
    "\n",
    "@app.callback(\n",
    "    Output('output-message', 'children'),\n",
    "    [Input('name-input', 'value')]\n",
    ")\n",
    "def update_output(name):\n",
    "    if name is not None:\n",
    "        return f'Welcome to Data Science Dashboard, {name}!'\n",
    "    else:\n",
    "        return 'Welcome to Data Science Dashboard'\n",
    "    \n",
    "    \n",
    "if __name__ == '__main__':\n",
    "    app.run_server()"
   ]
  },
  {
   "cell_type": "markdown",
   "metadata": {},
   "source": [
    "# Q3: Make Plotly-Dash that takes two inputs (numbers) and output 3 numbers x, y , z= x+y\n",
    "- hint: use html.Div, dcc.Input(type='number')"
   ]
  },
  {
   "cell_type": "code",
   "execution_count": 4,
   "metadata": {},
   "outputs": [
    {
     "name": "stderr",
     "output_type": "stream",
     "text": [
      "\n",
      "KeyboardInterrupt\n",
      "\n"
     ]
    }
   ],
   "source": [
    "from dash import Dash, dcc, html, Input, Output\n",
    "import dash_bootstrap_components as dbc\n",
    "from jupyter_dash import JupyterDash\n",
    "\n",
    "\n",
    "app = JupyterDash(\n",
    "    __name__,\n",
    "    external_stylesheets=[dbc.themes.SPACELAB, dbc.icons.BOOTSTRAP]\n",
    ")\n",
    "app.layout = html.Div(\n",
    "    id='container',\n",
    "    children=[\n",
    "        html.Div([\n",
    "            dcc.Input(id='input-x', type='number', placeholder='First Number', value=0),\n",
    "            dcc.Input(id='input-y', type='number', placeholder='Second Number', value=0),\n",
    "            html.Div(id='output-z'),\n",
    "        ],\n",
    "        style={\n",
    "            'position': 'absolute',\n",
    "            'left': '50%',\n",
    "            'top': '50%',\n",
    "            'transform': 'translate(-50%, -50%)',\n",
    "            'textAlign': 'center',\n",
    "        })\n",
    "    ],\n",
    "    style={\n",
    "        'position': 'relative',\n",
    "        'width': '100%',\n",
    "        'height': '100vh',\n",
    "    }\n",
    ")\n",
    "\n",
    "@app.callback(\n",
    "    Output('output-z', 'children'),\n",
    "    [Input('input-x', 'value'),\n",
    "     Input('input-y', 'value')]\n",
    ")\n",
    "def calculate_sum(x, y):\n",
    "    z = x + y\n",
    "    return f\"{z} = {x} + {y}\"\n",
    "    \n",
    "if __name__ == '__main__':\n",
    "    app.run_server()"
   ]
  },
  {
   "cell_type": "markdown",
   "metadata": {},
   "source": [
    "# Q4.1: Make JubyterDash with Rangeslider from 1-15 with 6 option"
   ]
  },
  {
   "cell_type": "code",
   "execution_count": null,
   "metadata": {},
   "outputs": [
    {
     "data": {
      "text/html": [
       "\n",
       "        <iframe\n",
       "            width=\"100%\"\n",
       "            height=\"650\"\n",
       "            src=\"http://127.0.0.1:8050/\"\n",
       "            frameborder=\"0\"\n",
       "            allowfullscreen\n",
       "            \n",
       "        ></iframe>\n",
       "        "
      ],
      "text/plain": [
       "<IPython.lib.display.IFrame at 0x1ff173f8d10>"
      ]
     },
     "metadata": {},
     "output_type": "display_data"
    }
   ],
   "source": [
    "from dash import Dash, dcc, html, Input, Output\n",
    "import dash_bootstrap_components as dbc\n",
    "\n",
    "\n",
    "app = Dash(\n",
    "    __name__,\n",
    "    external_stylesheets=[dbc.themes.SPACELAB, dbc.icons.BOOTSTRAP]\n",
    ")\n",
    "app.layout = html.Div(\n",
    "    id='container',\n",
    "    children=[\n",
    "        html.Div([\n",
    "            dcc.RangeSlider(\n",
    "            id='range-slider',\n",
    "            min=1,  \n",
    "            max=15,  \n",
    "            step=1,  \n",
    "            marks={i: str(i) for i in range(1, 16, 2)}, \n",
    "             )\n",
    "        ])\n",
    "    ],\n",
    "    style={\n",
    "        'position': 'relative',\n",
    "        'width': '50%',\n",
    "        'height': '50vh',\n",
    "        'margin': '20px',\n",
    "    })\n",
    "\n",
    "if __name__ == '__main__':\n",
    "    app.run_server()"
   ]
  },
  {
   "cell_type": "markdown",
   "metadata": {},
   "source": [
    "# Q4.2: add to the previous dash: Label, set default value on rangeslider as 7-10"
   ]
  },
  {
   "cell_type": "code",
   "execution_count": null,
   "metadata": {},
   "outputs": [
    {
     "data": {
      "text/html": [
       "\n",
       "        <iframe\n",
       "            width=\"100%\"\n",
       "            height=\"650\"\n",
       "            src=\"http://127.0.0.1:8050/\"\n",
       "            frameborder=\"0\"\n",
       "            allowfullscreen\n",
       "            \n",
       "        ></iframe>\n",
       "        "
      ],
      "text/plain": [
       "<IPython.lib.display.IFrame at 0x23349acbd10>"
      ]
     },
     "metadata": {},
     "output_type": "display_data"
    }
   ],
   "source": [
    "from dash import Dash, dcc, html, Input, Output\n",
    "import dash_bootstrap_components as dbc\n",
    "\n",
    "\n",
    "app = Dash(\n",
    "    __name__,\n",
    "    external_stylesheets=[dbc.themes.SPACELAB, dbc.icons.BOOTSTRAP]\n",
    ")\n",
    "app.layout = html.Div(\n",
    "    id='container',\n",
    "    children=[\n",
    "        html.Div([\n",
    "            dcc.RangeSlider(\n",
    "            id='range-slider',\n",
    "            min=1,  \n",
    "            max=15,  \n",
    "            step=1,  \n",
    "            marks={i: str(i) for i in range(1, 16, 2)}, \n",
    "            value=[7, 10] \n",
    "             ),\n",
    "            html.Label(id='output'),\n",
    "        ],)\n",
    "    ],\n",
    "    style={\n",
    "        'position': 'relative',\n",
    "        'width': '50%',\n",
    "        'height': '50vh',\n",
    "        'margin': '20px',\n",
    "    }\n",
    ")\n",
    "\n",
    "@app.callback(\n",
    "        Output('output', 'children'),\n",
    "        [Input('range-slider', 'value')]\n",
    ")\n",
    "def output(x):\n",
    "    return f'Range: {x[0]} - {x[1]}'  \n",
    "  \n",
    "if __name__ == '__main__':\n",
    "    app.run_server()"
   ]
  },
  {
   "cell_type": "markdown",
   "metadata": {},
   "source": [
    "# Q5: Make 3 different Dcc types (Dropdown - Checkbox...) in one dash"
   ]
  },
  {
   "cell_type": "code",
   "execution_count": 1,
   "metadata": {},
   "outputs": [
    {
     "data": {
      "text/html": [
       "\n",
       "        <iframe\n",
       "            width=\"100%\"\n",
       "            height=\"650\"\n",
       "            src=\"http://127.0.0.1:8050/\"\n",
       "            frameborder=\"0\"\n",
       "            allowfullscreen\n",
       "            \n",
       "        ></iframe>\n",
       "        "
      ],
      "text/plain": [
       "<IPython.lib.display.IFrame at 0x21dd63785d0>"
      ]
     },
     "metadata": {},
     "output_type": "display_data"
    }
   ],
   "source": [
    "from dash import Dash, dcc, html, Input, Output\n",
    "import dash_bootstrap_components as dbc\n",
    "\n",
    "\n",
    "app = Dash(\n",
    "    __name__,\n",
    "    external_stylesheets=[dbc.themes.SPACELAB, dbc.icons.BOOTSTRAP]\n",
    ")\n",
    "app.layout = html.Div(\n",
    "    id='container',\n",
    "    children=[\n",
    "        html.Div([\n",
    "            dcc.RangeSlider(\n",
    "            id='range-slider',\n",
    "            min=1,  \n",
    "            max=15,  \n",
    "            step=1,  \n",
    "            marks={i: str(i) for i in range(1, 16, 2)}, \n",
    "            value=[7, 10] \n",
    "            ),\n",
    "            dcc.Checklist(\n",
    "                id='checklist',\n",
    "                options=[\n",
    "                    {'label': 'Apples', 'value': 'Apples'},\n",
    "                    {'label': 'Oranges', 'value': 'Oranges'},\n",
    "                    {'label': 'Bananas', 'value': 'Bananas'},\n",
    "                    ],\n",
    "                    value=['Apples', 'Oranges'],  \n",
    "                    ),\n",
    "            dcc.Dropdown(\n",
    "                id='dropdown',\n",
    "                options=[\n",
    "                    {'label': 'Apples', 'value': 'Apples'},\n",
    "                    {'label': 'Oranges', 'value': 'Oranges'},\n",
    "                    {'label': 'Bananas', 'value': 'Bananas'},\n",
    "                    ],\n",
    "                    value=['Apples'],\n",
    "            ),\n",
    "        ],)\n",
    "    ],\n",
    "    style={\n",
    "        'position': 'relative',\n",
    "        'width': '50%',\n",
    "        'height': '50vh',\n",
    "        'margin': '20px',\n",
    "    }\n",
    ")\n",
    "\n",
    "  \n",
    "if __name__ == '__main__':\n",
    "    app.run_server()"
   ]
  },
  {
   "cell_type": "markdown",
   "metadata": {},
   "source": [
    "# Q6: Make Plotly chart, then add it to a plotly_dash"
   ]
  },
  {
   "cell_type": "code",
   "execution_count": 1,
   "metadata": {},
   "outputs": [
    {
     "data": {
      "text/html": [
       "\n",
       "        <iframe\n",
       "            width=\"100%\"\n",
       "            height=\"650\"\n",
       "            src=\"http://127.0.0.1:8050/\"\n",
       "            frameborder=\"0\"\n",
       "            allowfullscreen\n",
       "            \n",
       "        ></iframe>\n",
       "        "
      ],
      "text/plain": [
       "<IPython.lib.display.IFrame at 0x275f9422e10>"
      ]
     },
     "metadata": {},
     "output_type": "display_data"
    }
   ],
   "source": [
    "import plotly.express as px\n",
    "from dash import Dash, dcc, html, Input, Output\n",
    "import dash_bootstrap_components as dbc\n",
    "\n",
    "df = px.data.iris()\n",
    "fig = px.scatter(df, x=\"sepal_length\", y=\"petal_length\", color_discrete_sequence=px.colors.qualitative.Pastel)\n",
    "\n",
    "app = Dash(\n",
    "    __name__,\n",
    "    external_stylesheets=[dbc.themes.SPACELAB, dbc.icons.BOOTSTRAP]\n",
    ")\n",
    "app.layout = html.Div(\n",
    "    id='container',\n",
    "    children=[\n",
    "        html.Div([\n",
    "            html.H1('Plotly Chart in Dash'),\n",
    "            dcc.Graph(figure=fig)\n",
    "        ],\n",
    "        style={\n",
    "            'position': 'absolute',\n",
    "            'left': '50%',\n",
    "            'top': '50%',\n",
    "            'transform': 'translate(-50%, -50%)',\n",
    "            'textAlign': 'center',\n",
    "        })\n",
    "    ],\n",
    "    style={\n",
    "        'position': 'relative',\n",
    "        'width': '100%',\n",
    "        'height': '100vh',\n",
    "    }\n",
    ")\n",
    "\n",
    "    \n",
    "if __name__ == '__main__':\n",
    "    app.run_server()"
   ]
  },
  {
   "cell_type": "markdown",
   "metadata": {},
   "source": [
    "# Q7: From our data make plotly-dash with suitble chart, and Dropdown.\n",
    "\n",
    "- Dropdown should contain at least 3 options, each one represents different column.\n",
    "- Add label to dropdown.\n",
    "- The chart data should change depending on the selected dropdown option."
   ]
  },
  {
   "cell_type": "code",
   "execution_count": null,
   "metadata": {},
   "outputs": [],
   "source": [
    "import pandas as pd\n",
    "import plotly.express as px\n",
    "df = pd.read_csv(\"titanic passenger list.csv\")\n",
    "\n",
    "condition = df['pclass'] != 'nan'\n",
    "df = df[condition]\n",
    "\n",
    "fig = px.bar(\n",
    "    data_frame=df, x='embarked', y='survived', color='embarked', \n",
    "    template='simple_white', title='Survival by Embarkation Port', color_discrete_sequence= px.colors.qualitative.Pastel2\n",
    ")\n",
    "\n",
    "def pclass_str(x):\n",
    "    if x == 1:\n",
    "        return 'First Class'\n",
    "    elif x == 2:\n",
    "        return 'Second Class'\n",
    "    else:\n",
    "        return 'Third Class'\n",
    "\n",
    "\n",
    "df[\"survived\"] = df[\"survived\"].map(lambda x: 'Not Survived' if x == 0 else 'Survived')\n",
    "df['pclass'] = df['pclass'].apply(pclass_str)\n",
    "\n",
    "count_pclass = df['pclass'].value_counts().reset_index()\n",
    "count_sex = df['sex'].value_counts().reset_index()\n",
    "count_survived = df['survived'].value_counts().reset_index()\n",
    "\n",
    "fig2 = px.scatter(\n",
    "    df, x='fare', y='age', hover_name='survived',\n",
    "    color='survived', color_discrete_sequence=px.colors.qualitative.Pastel2,\n",
    "    template='simple_white', width=800, height=400,\n",
    "    title='Scatter Plot of Age vs. Fare by Survival'\n",
    ")\n"
   ]
  },
  {
   "cell_type": "code",
   "execution_count": null,
   "metadata": {},
   "outputs": [
    {
     "data": {
      "text/html": [
       "\n",
       "        <iframe\n",
       "            width=\"100%\"\n",
       "            height=\"650\"\n",
       "            src=\"http://127.0.0.1:8050/\"\n",
       "            frameborder=\"0\"\n",
       "            allowfullscreen\n",
       "            \n",
       "        ></iframe>\n",
       "        "
      ],
      "text/plain": [
       "<IPython.lib.display.IFrame at 0x206e5814e50>"
      ]
     },
     "metadata": {},
     "output_type": "display_data"
    }
   ],
   "source": [
    "from dash import Dash, dcc, html, Input, Output\n",
    "import dash_bootstrap_components as dbc\n",
    "\n",
    "\n",
    "app = Dash(\n",
    "    __name__,\n",
    "    external_stylesheets=[dbc.themes.SPACELAB, dbc.icons.BOOTSTRAP]\n",
    ")\n",
    "\n",
    "\n",
    "app.layout = dbc.Container([\n",
    "    dbc.Row([\n",
    "        dbc.Col([\n",
    "            dcc.Dropdown(\n",
    "                id='dropdown',\n",
    "                options=[\n",
    "                    {'label': 'Class Passenger Distribution', 'value': 'pclass'},\n",
    "                    {'label': 'Sex Distribution', 'value': 'sex'},\n",
    "                    {'label': 'Survival Distribution', 'value': 'survived'},\n",
    "                    ],\n",
    "                    value=['pclass'],\n",
    "            ),\n",
    "            dcc.Graph(id='output_fig'),\n",
    "        ], width=12)\n",
    "    ]),\n",
    "    dbc.Row([\n",
    "        dbc.Col([\n",
    "            dcc.Graph(id='bar', figure=fig)\n",
    "        ], width=12)\n",
    "    ]),\n",
    "    dbc.Row([\n",
    "        dbc.Col([\n",
    "            dcc.Graph(id='scatter-plot', figure=fig2)\n",
    "        ], width=12)\n",
    "    ])\n",
    "])\n",
    "\n",
    "\n",
    "@app.callback(\n",
    "        Output('output_fig', 'figure'),\n",
    "        [Input('dropdown', 'value')]\n",
    ")\n",
    "def output(option):\n",
    "    if option == 'pclass':\n",
    "        data = count_pclass\n",
    "        names = 'pclass'\n",
    "        title = 'Class Passenger Distribution'\n",
    "    elif option == 'sex':\n",
    "        data = count_sex\n",
    "        names = 'sex'\n",
    "        title = 'Sex Distribution'\n",
    "    else:\n",
    "        data = count_survived\n",
    "        names = 'survived'\n",
    "        title = 'Survival Distribution'\n",
    "\n",
    "    return px.pie(data, values = 'count', names = names, title = title, color_discrete_sequence=px.colors.qualitative.Pastel2)\n",
    "\n",
    "  \n",
    "if __name__ == '__main__':\n",
    "    app.run_server()"
   ]
  },
  {
   "cell_type": "markdown",
   "metadata": {},
   "source": [
    "# Q8: add 2 more charts to the prevoius Ploty-Dash"
   ]
  },
  {
   "cell_type": "markdown",
   "metadata": {},
   "source": [
    "# Q9: Search for \"Plotly Gallery\" and fetch for a graph and use it with our data.\n",
    "\n",
    "- Note: You need to put the resourse addres of fetched your grapth."
   ]
  },
  {
   "cell_type": "code",
   "execution_count": null,
   "metadata": {},
   "outputs": [],
   "source": [
    "import plotly.graph_objects as go\n",
    "\n",
    "fig3 = go.Figure(data=[go.Scatter(\n",
    "    x=[1, 2, 3, 4], y=[10, 11, 12, 13],\n",
    "    mode='markers',\n",
    "    marker=dict(\n",
    "        color=['rgb(93, 164, 214)', 'rgb(255, 144, 14)',\n",
    "               'rgb(44, 160, 101)', 'rgb(255, 65, 54)'],\n",
    "        opacity=[1, 0.8, 0.6, 0.4],\n",
    "        size=[40, 60, 80, 100],\n",
    "    )\n",
    ")])"
   ]
  },
  {
   "cell_type": "code",
   "execution_count": null,
   "metadata": {},
   "outputs": [
    {
     "data": {
      "text/html": [
       "\n",
       "        <iframe\n",
       "            width=\"100%\"\n",
       "            height=\"650\"\n",
       "            src=\"http://127.0.0.1:8050/\"\n",
       "            frameborder=\"0\"\n",
       "            allowfullscreen\n",
       "            \n",
       "        ></iframe>\n",
       "        "
      ],
      "text/plain": [
       "<IPython.lib.display.IFrame at 0x1ba5c6d7d90>"
      ]
     },
     "metadata": {},
     "output_type": "display_data"
    }
   ],
   "source": [
    "from dash import Dash, dcc, html, Input, Output\n",
    "import dash_bootstrap_components as dbc\n",
    "\n",
    "\n",
    "app = Dash(\n",
    "    __name__,\n",
    "    external_stylesheets=[dbc.themes.SPACELAB, dbc.icons.BOOTSTRAP]\n",
    ")\n",
    "\n",
    "app.layout = dbc.Container([\n",
    "    \n",
    "    dbc.Row([\n",
    "        dbc.Col([\n",
    "            dcc.Graph(id='fig3', figure=fig3),\n",
    "             html.Label([\n",
    "                 'Source: ',\n",
    "                 html.A('https://plotly.com/python/bubble-charts/', href='https://plotly.com/python/bubble-charts/', target='_blank'),\n",
    "                 ])\n",
    "        ], width=12)\n",
    "    ])\n",
    "])\n",
    "\n",
    "if __name__ == '__main__':\n",
    "    app.run_server()"
   ]
  },
  {
   "cell_type": "markdown",
   "metadata": {},
   "source": [
    "# Challenge 1.1: Create Plotly dash with two charts depends on different columns of the data\n",
    "- First Chart : Pie\n",
    "- Secound Chart: is by your Choice ( Not Pie )"
   ]
  },
  {
   "cell_type": "code",
   "execution_count": null,
   "metadata": {},
   "outputs": [
    {
     "data": {
      "text/html": [
       "\n",
       "        <iframe\n",
       "            width=\"100%\"\n",
       "            height=\"650\"\n",
       "            src=\"http://127.0.0.1:8050/\"\n",
       "            frameborder=\"0\"\n",
       "            allowfullscreen\n",
       "            \n",
       "        ></iframe>\n",
       "        "
      ],
      "text/plain": [
       "<IPython.lib.display.IFrame at 0x21fb4240090>"
      ]
     },
     "metadata": {},
     "output_type": "display_data"
    }
   ],
   "source": [
    "from dash import Dash, dcc, html, Input, Output\n",
    "import dash_bootstrap_components as dbc\n",
    "\n",
    "import pandas as pd\n",
    "import plotly.express as px\n",
    "df = pd.read_csv(\"titanic passenger list.csv\")\n",
    "\n",
    "condition = df['pclass'] != 'nan'\n",
    "df = df[condition]\n",
    "\n",
    "fig_bar = px.bar(\n",
    "    data_frame=df, x='embarked', y='survived', color='embarked', \n",
    "    template='simple_white', title='Survival by Embarkation Port', color_discrete_sequence= px.colors.qualitative.Pastel1\n",
    ")\n",
    "\n",
    "\n",
    "df[\"survived\"] = df[\"survived\"].map(lambda x: 'Not Survived' if x == 0 else 'Survived')\n",
    "count_survived = df['survived'].value_counts().reset_index()\n",
    "fig_pie = px.pie(count_survived, values = 'count', names = 'survived', title = 'Survival Distribution', color_discrete_sequence=px.colors.qualitative.Pastel1)\n",
    "\n",
    "\n",
    "app = Dash(\n",
    "    __name__,\n",
    "    external_stylesheets=[dbc.themes.SPACELAB, dbc.icons.BOOTSTRAP]\n",
    ")\n",
    "\n",
    "\n",
    "app.layout = dbc.Container([\n",
    "    dbc.Row([\n",
    "        dbc.Col([\n",
    "            dcc.Graph(id='fig_pie', figure=fig_pie),\n",
    "        ], width=6),\n",
    "        dbc.Col([\n",
    "            dcc.Graph(id='fig_bar', figure=fig_bar),\n",
    "        ], width=6)\n",
    "    ])\n",
    "])\n",
    "\n",
    "if __name__ == '__main__':\n",
    "    app.run_server()"
   ]
  },
  {
   "cell_type": "markdown",
   "metadata": {},
   "source": [
    "# Challenge 1.2: Make Hovering over a slice of the pie changes the data for the second chart depending on what the slice is."
   ]
  },
  {
   "cell_type": "code",
   "execution_count": null,
   "metadata": {},
   "outputs": [
    {
     "data": {
      "text/html": [
       "\n",
       "        <iframe\n",
       "            width=\"100%\"\n",
       "            height=\"650\"\n",
       "            src=\"http://127.0.0.1:8050/\"\n",
       "            frameborder=\"0\"\n",
       "            allowfullscreen\n",
       "            \n",
       "        ></iframe>\n",
       "        "
      ],
      "text/plain": [
       "<IPython.lib.display.IFrame at 0x247eae29890>"
      ]
     },
     "metadata": {},
     "output_type": "display_data"
    }
   ],
   "source": [
    "from dash import Dash, dcc, html, Input, Output\n",
    "import dash_bootstrap_components as dbc\n",
    "\n",
    "import pandas as pd\n",
    "import plotly.express as px\n",
    "df = pd.read_csv(\"titanic passenger list.csv\")\n",
    "\n",
    "condition = df['pclass'] != 'nan'\n",
    "df = df[condition]\n",
    "\n",
    "non_survivors_embarked = df[df['survived'] == 0].groupby('embarked')['survived'].count().reset_index()\n",
    "non_survivors_embarked = non_survivors_embarked.rename(columns={'survived': 'Not Survived'})\n",
    "\n",
    "survivors_embarked = df[df['survived'] == 1].groupby('embarked')['survived'].count().reset_index()\n",
    "survivors_embarked = survivors_embarked.rename(columns={'survived': 'Survived'})\n",
    "\n",
    "count_survived = df['survived'].value_counts().reset_index()\n",
    "count_survived[\"survived\"] = count_survived[\"survived\"].map(lambda x: 'Not Survived' if x == 0 else 'Survived')\n",
    "fig_pie = px.pie(count_survived, values = 'count', names = 'survived', title = 'Survival Distribution', color_discrete_sequence=px.colors.qualitative.Pastel1)\n",
    "\n",
    "\n",
    "app = Dash(\n",
    "    __name__,\n",
    "    external_stylesheets=[dbc.themes.SPACELAB, dbc.icons.BOOTSTRAP]\n",
    ")\n",
    "\n",
    "\n",
    "app.layout = dbc.Container([\n",
    "    dbc.Row([\n",
    "        dbc.Col([\n",
    "            dcc.Graph(id='fig_pie', figure=fig_pie),\n",
    "        ], width=6),\n",
    "        dbc.Col([\n",
    "            dcc.Graph(id='fig_bar'),\n",
    "            html.Label(id='test')\n",
    "        ], width=6)\n",
    "    ])\n",
    "])\n",
    "\n",
    "@app.callback(\n",
    "    Output('fig_bar', 'figure'),\n",
    "    Input('fig_pie', 'hoverData')\n",
    ")\n",
    "\n",
    "def display_hover_data(hoverData):\n",
    "    if hoverData is not None and 'points' in hoverData:\n",
    "        hovered_name = hoverData['points'][0]['label']\n",
    "        if hovered_name == 'Survived':\n",
    "            data = survivors_embarked\n",
    "            y='Survived'\n",
    "        else:\n",
    "            data = non_survivors_embarked\n",
    "            y='Not Survived'\n",
    "    else:\n",
    "        data = survivors_embarked\n",
    "        y='Survived'\n",
    "\n",
    "    \n",
    "    hover_fig = px.bar(\n",
    "    data_frame=data, x='embarked', y=y, color='embarked',\n",
    "    template='simple_white', title='Survival by Embarkation Port', color_discrete_sequence= px.colors.qualitative.Pastel1\n",
    "    )\n",
    "\n",
    "\n",
    "    return hover_fig\n",
    "\n",
    "\n",
    "if __name__ == '__main__':\n",
    "    app.run_server()"
   ]
  },
  {
   "cell_type": "code",
   "execution_count": null,
   "metadata": {},
   "outputs": [],
   "source": []
  }
 ],
 "metadata": {
  "kernelspec": {
   "display_name": "Python 3 (ipykernel)",
   "language": "python",
   "name": "python3"
  },
  "language_info": {
   "codemirror_mode": {
    "name": "ipython",
    "version": 3
   },
   "file_extension": ".py",
   "mimetype": "text/x-python",
   "name": "python",
   "nbconvert_exporter": "python",
   "pygments_lexer": "ipython3",
   "version": "3.11.6"
  }
 },
 "nbformat": 4,
 "nbformat_minor": 2
}
